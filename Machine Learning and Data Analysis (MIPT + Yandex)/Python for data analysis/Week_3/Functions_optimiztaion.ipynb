{
 "cells": [
  {
   "cell_type": "code",
   "execution_count": 76,
   "metadata": {},
   "outputs": [],
   "source": [
    "#    Задача 1. Минимизация гладкой функции\n",
    "    \n",
    "import numpy as np\n",
    "from  scipy.optimize import minimize \n",
    "\n",
    "with open('submission_1.txt','w') as submit:\n",
    "    \n",
    "    def f(x): \n",
    "        return np.sin(x / 5) * np.exp(x / 10) + 5 * np.exp(-x / 2)\n",
    "    \n",
    "    submit.write(str(round((minimize(f,2, method = 'BFGS').fun),2)))\n",
    "    submit.write(' ')\n",
    "    submit.write(str(round((minimize(f,30, method = 'BFGS').fun),2)))"
   ]
  },
  {
   "cell_type": "code",
   "execution_count": 75,
   "metadata": {},
   "outputs": [
    {
     "name": "stdout",
     "output_type": "stream",
     "text": [
      "25.880192513765415\n"
     ]
    }
   ],
   "source": [
    "#    Задача 2. Глобальная оптимизация\n",
    "from scipy.optimize import differential_evolution\n",
    "\n",
    "with open('submission_2.txt','w') as submit:\n",
    "    def f(x): \n",
    "        return np.sin(x / 5) * np.exp(x / 10) + 5 * np.exp(-x / 2)\n",
    "    submit.write(str(round(differential_evolution(f,[(1,30)]).fun[0],2)))\n",
    "    # При повторных запусках дифференциальной эволюции количество итераций будет меняться, но в этом примере, скорее всего,\n",
    "    # оно всегда будет сравнимым с количеством итераций BFGS.\n",
    "    # Однако в дифференциальной эволюции за одну итерацию требуется выполнить гораздо больше действий, чем в BFGS.\n",
    "    # Например, можно обратить внимание на количество вычислений значения функции (nfev) и увидеть, что у BFGS оно значительно меньше.\n",
    "    # Кроме того, время работы дифференциальной эволюции очень быстро растет с увеличением числа аргументов функции."
   ]
  },
  {
   "cell_type": "code",
   "execution_count": 87,
   "metadata": {},
   "outputs": [
    {
     "data": {
      "image/png": "[encoded data removed]",
      "text/plain": [
       "<Figure size 648x432 with 1 Axes>"
      ]
     },
     "metadata": {},
     "output_type": "display_data"
    }
   ],
   "source": [
    "#    Задача 3. Минимизация негладкой функции\n",
    "import numpy\n",
    "import matplotlib as mpl\n",
    "import matplotlib.pyplot as plt\n",
    "% matplotlib inline\n",
    "mpl.rc('font', family='Verdana', size= 16)\n",
    "\n",
    "with open('submission_3.txt','w') as submit:\n",
    "    \n",
    "    def f(x): \n",
    "        return (np.sin(x / 5) * np.exp(x / 10) + 5 * np.exp(-x / 2)).astype(int)\n",
    "    \n",
    "    #def h(x):\n",
    "        #return x.astype(int)\n",
    "    \n",
    "    fig, ax = plt.subplots(figsize=(9,6))\n",
    "    x = numpy.linspace(1,30,200)\n",
    "    ax.axis([1., 30., -15., 5.])\n",
    "    ax.grid()\n",
    "    ax.plot(x, f(x))\n",
    "    plt.show()\n",
    "    submit.write(str(minimize(f,30, method = 'BFGS').fun[0]))\n",
    "    submit.write(' ')\n",
    "    submit.write(str(differential_evolution(f,[(1,30)]).fun))\n",
    "    # Крутое построение графиков тут - https://github.com/Coursera-machine-learning-data-analysis/1/blob/master/1.ipynb\n",
    "    \n",
    "    "
   ]
  },
  {
   "cell_type": "code",
   "execution_count": null,
   "metadata": {},
   "outputs": [],
   "source": []
  }
 ],
 "metadata": {
  "kernelspec": {
   "display_name": "Python 3",
   "language": "python",
   "name": "python3"
  },
  "language_info": {
   "codemirror_mode": {
    "name": "ipython",
    "version": 3
   },
   "file_extension": ".py",
   "mimetype": "text/x-python",
   "name": "python",
   "nbconvert_exporter": "python",
   "pygments_lexer": "ipython3",
   "version": "3.6.5"
  }
 },
 "nbformat": 4,
 "nbformat_minor": 2
}
