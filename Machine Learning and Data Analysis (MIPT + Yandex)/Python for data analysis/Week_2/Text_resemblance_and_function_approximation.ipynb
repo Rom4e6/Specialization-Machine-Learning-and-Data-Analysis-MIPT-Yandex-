{
 "cells": [
  {
   "cell_type": "code",
   "execution_count": 53,
   "metadata": {},
   "outputs": [],
   "source": [
    "import re\n",
    "file = open('sentences.txt', 'r')\n",
    "tokens = {}\n",
    "for i,x in enumerate (file):\n",
    "    x=x.lower().strip()\n",
    "    words = re.split('[^a-z]', x)\n",
    "    for word in words:\n",
    "        if word:\n",
    "            if (not(tokens.get(word))):\n",
    "                tokens.update({word:{i:1}})\n",
    "            elif tokens[word].get(i):\n",
    "                     tokens[word][i]+=1\n",
    "            else: \n",
    "                 tokens[word].update({i:1})"
   ]
  },
  {
   "cell_type": "code",
   "execution_count": 64,
   "metadata": {},
   "outputs": [],
   "source": [
    "import numpy as np\n",
    "matrix = np.zeros((i+1,len(tokens)))\n",
    "d=0\n",
    "for column, place in iter(tokens.items()):\n",
    "    for string,amount in iter(place.items()):\n",
    "        matrix[string][d] = amount\n",
    "    d+=1"
   ]
  },
  {
   "cell_type": "code",
   "execution_count": 74,
   "metadata": {},
   "outputs": [],
   "source": [
    "distance = {}\n",
    "from scipy.spatial.distance import cosine\n",
    "for i in range(1,22):\n",
    "    distance.update({cosine(matrix[0],matrix[i]):i})"
   ]
  },
  {
   "cell_type": "code",
   "execution_count": 88,
   "metadata": {},
   "outputs": [],
   "source": [
    "output = open('output.txt','w')\n",
    "sort = []\n",
    "for k in sorted(distance.keys()):\n",
    "    sort.append([k,distance[k]])\n",
    "\n",
    "output.write(str(sort[0][1]))\n",
    "output.write(' ')\n",
    "output.write(str(sort[1][1]))\n",
    "output.close()"
   ]
  },
  {
   "cell_type": "code",
   "execution_count": 96,
   "metadata": {},
   "outputs": [],
   "source": [
    "def f(x): \n",
    "    return np.sin(x / 5) * np.exp(x / 10) + 5 * np.exp(-x / 2)"
   ]
  },
  {
   "cell_type": "code",
   "execution_count": 103,
   "metadata": {},
   "outputs": [
    {
     "name": "stdout",
     "output_type": "stream",
     "text": [
      "[[ 1.  1.]\n",
      " [ 1. 15.]]\n",
      "[ 3.43914511 -0.18692825]\n"
     ]
    }
   ],
   "source": [
    "matrix = np.zeros((2,2))\n",
    "matrix[0,0] = 1\n",
    "matrix[0,1] =1\n",
    "#matrix[0,2]=f(1)\n",
    "matrix[1,0] = 1\n",
    "matrix[1,1] =15\n",
    "#matrix[1,2]=f(15)\n",
    "b = np.array([f(1),f(15)])\n",
    "b.reshape(2,1)\n",
    "print(matrix)\n",
    "from scipy.linalg import solve\n",
    "solution = solve(matrix,b)\n",
    "print(solution)"
   ]
  },
  {
   "cell_type": "code",
   "execution_count": 116,
   "metadata": {},
   "outputs": [
    {
     "name": "stdout",
     "output_type": "stream",
     "text": [
      "[[   1    1    1    1]\n",
      " [   1    4   16   64]\n",
      " [   1   10  100 1000]\n",
      " [   1   15  225 3375]]\n"
     ]
    }
   ],
   "source": [
    "a = np.array([[1,1,1,1],\n",
    "             [1,4,16,64],\n",
    "             [1,10,100,1000],\n",
    "             [1,15,225,3375]])\n",
    "b = np.array([f(1),f(4),f(10),f(15)])\n",
    "b.reshape(4,1)\n",
    "print(a)"
   ]
  },
  {
   "cell_type": "code",
   "execution_count": 117,
   "metadata": {},
   "outputs": [
    {
     "name": "stdout",
     "output_type": "stream",
     "text": [
      "[ 4.36264154 -1.29552587  0.19333685 -0.00823565]\n"
     ]
    }
   ],
   "source": [
    "solution = solve(a,b)\n",
    "print(solution)"
   ]
  },
  {
   "cell_type": "code",
   "execution_count": null,
   "metadata": {},
   "outputs": [],
   "source": []
  }
 ],
 "metadata": {
  "kernelspec": {
   "display_name": "Python 3",
   "language": "python",
   "name": "python3"
  },
  "language_info": {
   "codemirror_mode": {
    "name": "ipython",
    "version": 3
   },
   "file_extension": ".py",
   "mimetype": "text/x-python",
   "name": "python",
   "nbconvert_exporter": "python",
   "pygments_lexer": "ipython3",
   "version": "3.6.5"
  }
 },
 "nbformat": 4,
 "nbformat_minor": 2
}
